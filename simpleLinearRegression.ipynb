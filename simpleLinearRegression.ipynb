{
  "cells": [
    {
      "cell_type": "markdown",
      "source": [
        "<h1>N Karthik (4178520)<h1>\n",
        "<h1> Alfin Abraham (4181788)<h1>\n"
      ],
      "metadata": {
        "id": "G6EqKw1ICbew"
      }
    },
    {
      "cell_type": "markdown",
      "metadata": {
        "id": "Ju49BgojWFxo"
      },
      "source": [
        "### TW6: Simple Linear Regression on COVID-19 Datasets\n",
        "\n",
        "\n",
        "### Learning simple linear regression\n",
        "\n",
        "Task 0: First, run the example and understand the ML process and be familir with Python package functions for simple linear regression. \n",
        "\n",
        "Task 1: Apply a simple linear regression and a logistic regression on COVID-19 dataset(s). \n",
        "\n",
        "Task 2: A summary of your findings from simple regression modeling. "
      ]
    },
    {
      "cell_type": "markdown",
      "metadata": {
        "id": "xz9a6vnYWFxs"
      },
      "source": [
        "#### Submission:\n",
        "\n",
        "- Push the completed code to your Github repository.\n",
        "\n",
        "- See submission details in Canvas. "
      ]
    },
    {
      "cell_type": "markdown",
      "metadata": {
        "id": "tuOa-5FzWFxu"
      },
      "source": [
        "###  Simple Linear Regression example\n",
        "\n",
        "Follow the code and observe the results"
      ]
    },
    {
      "cell_type": "code",
      "execution_count": 159,
      "metadata": {
        "id": "3VgafkgrWFxw"
      },
      "outputs": [],
      "source": [
        "# Python ≥3.5 is required\n",
        "import sys\n",
        "assert sys.version_info >= (3, 5)"
      ]
    },
    {
      "cell_type": "code",
      "execution_count": 160,
      "metadata": {
        "id": "srUImGWxWFxy"
      },
      "outputs": [],
      "source": [
        "# Scikit-Learn ≥0.20 is required\n",
        "import sklearn\n",
        "assert sklearn.__version__ >= \"0.20\""
      ]
    },
    {
      "cell_type": "markdown",
      "metadata": {
        "id": "ACa0XfbPWFxy"
      },
      "source": [
        "### Data Preparation"
      ]
    },
    {
      "cell_type": "markdown",
      "metadata": {
        "id": "iR20yM9-WFxz"
      },
      "source": [
        "The code expects the data files to be located in the current directory. Fetch the files in datasets/lifesat."
      ]
    },
    {
      "cell_type": "code",
      "execution_count": 161,
      "metadata": {
        "id": "apVjw-DrWFx0"
      },
      "outputs": [],
      "source": [
        "import os\n",
        "datapath = os.path.join(\"datasets\", \"lifesat\", \"\")"
      ]
    },
    {
      "cell_type": "code",
      "execution_count": 162,
      "metadata": {
        "id": "VB6YODbgWFx1"
      },
      "outputs": [],
      "source": [
        "# To plot pretty figures directly within Jupyter\n",
        "%matplotlib inline\n",
        "import matplotlib as mpl\n",
        "\n",
        "mpl.rc('axes', labelsize=14)\n",
        "mpl.rc('xtick', labelsize=12)\n",
        "mpl.rc('ytick', labelsize=12)"
      ]
    },
    {
      "cell_type": "code",
      "execution_count": 163,
      "metadata": {
        "colab": {
          "base_uri": "https://localhost:8080/"
        },
        "id": "5Znyw3RFWFx3",
        "outputId": "98c9db1d-a390-4b43-f999-977f79c1a914"
      },
      "outputs": [
        {
          "output_type": "stream",
          "name": "stdout",
          "text": [
            "Downloading oecd_bli_2015.csv\n",
            "Downloading gdp_per_capita.csv\n"
          ]
        }
      ],
      "source": [
        "# Download the data\n",
        "import urllib\n",
        "DOWNLOAD_ROOT = \"https://raw.githubusercontent.com/ageron/handson-ml2/master/\"\n",
        "os.makedirs(datapath, exist_ok=True)\n",
        "\n",
        "for filename in (\"oecd_bli_2015.csv\", \"gdp_per_capita.csv\"):\n",
        "    print(\"Downloading\", filename)\n",
        "    url = DOWNLOAD_ROOT + \"datasets/lifesat/\" + filename\n",
        "    urllib.request.urlretrieve(url, datapath + filename)"
      ]
    },
    {
      "cell_type": "markdown",
      "metadata": {
        "id": "W29pLqhOWFx4"
      },
      "source": [
        "This function just merges the OECD's life satisfaction data and the IMF's GDP per capita data. It's a bit too long and boring and it's not specific to Machine Learning, which is why I left it out of the book."
      ]
    },
    {
      "cell_type": "markdown",
      "metadata": {
        "id": "z0LIexIvWFx5"
      },
      "source": [
        "#### Load the data into a DataFrame"
      ]
    },
    {
      "cell_type": "code",
      "execution_count": 164,
      "metadata": {
        "id": "iPenxftdWFx5"
      },
      "outputs": [],
      "source": [
        "# Code example of load the data and prepared the data\n",
        "import matplotlib.pyplot as plt\n",
        "import numpy as np\n",
        "import pandas as pd\n",
        "import sklearn.linear_model\n",
        "\n",
        "# Load the data\n",
        "oecd_bli = pd.read_csv(datapath + \"oecd_bli_2015.csv\", thousands=',')\n",
        "gdp_per_capita = pd.read_csv(datapath + \"gdp_per_capita.csv\",thousands=',',delimiter='\\t',\n",
        "                             encoding='latin1', na_values=\"n/a\")"
      ]
    },
    {
      "cell_type": "markdown",
      "metadata": {
        "id": "ahmF9tovWFx7"
      },
      "source": [
        "#### A function to select the data and visualize it"
      ]
    },
    {
      "cell_type": "code",
      "execution_count": 165,
      "metadata": {
        "id": "dnQ1yY-GWFx7"
      },
      "outputs": [],
      "source": [
        "def prepare_country_stats(oecd_bli, gdp_per_capita):\n",
        "    oecd_bli = oecd_bli[oecd_bli[\"INEQUALITY\"]==\"TOT\"]\n",
        "    oecd_bli = oecd_bli.pivot(index=\"Country\", columns=\"Indicator\", values=\"Value\")\n",
        "    gdp_per_capita.rename(columns={\"2015\": \"GDP per capita\"}, inplace=True)\n",
        "    gdp_per_capita.set_index(\"Country\", inplace=True)\n",
        "    \n",
        "    full_country_stats = pd.merge(left=oecd_bli, right=gdp_per_capita,\n",
        "                                  left_index=True, right_index=True)\n",
        "    \n",
        "    full_country_stats.sort_values(by=\"GDP per capita\", inplace=True)\n",
        "    remove_indices = [0, 1, 6, 8, 33, 34, 35]\n",
        "    keep_indices = list(set(range(36)) - set(remove_indices))\n",
        "    \n",
        "    return full_country_stats[['GDP per capita', 'Life satisfaction']].iloc[keep_indices]"
      ]
    },
    {
      "cell_type": "code",
      "execution_count": 166,
      "metadata": {
        "colab": {
          "base_uri": "https://localhost:8080/",
          "height": 286
        },
        "id": "GJlQ7UGPWFx7",
        "outputId": "db3e88ca-f3c7-4e93-b8a5-798fbc7282fd"
      },
      "outputs": [
        {
          "output_type": "display_data",
          "data": {
            "text/plain": [
              "<Figure size 432x288 with 1 Axes>"
            ],
            "image/png": "[encoded data removed]"
          },
          "metadata": {
            "needs_background": "light"
          }
        }
      ],
      "source": [
        "# Prepare the data\n",
        "country_stats = prepare_country_stats(oecd_bli, gdp_per_capita)\n",
        "\n",
        "X = np.c_[country_stats['GDP per capita']]\n",
        "y = np.c_[country_stats['Life satisfaction']]\n",
        "\n",
        "# Visualize the data\n",
        "country_stats.plot(kind='scatter', x=\"GDP per capita\", y='Life satisfaction')\n",
        "plt.show()"
      ]
    },
    {
      "cell_type": "code",
      "execution_count": 167,
      "metadata": {
        "colab": {
          "base_uri": "https://localhost:8080/"
        },
        "id": "lYk1Qn2aWFx8",
        "outputId": "9fa7c864-b57e-4fc3-9dc6-dd00fe64f2ed"
      },
      "outputs": [
        {
          "output_type": "stream",
          "name": "stdout",
          "text": [
            "(29, 1) (29, 1)\n"
          ]
        }
      ],
      "source": [
        "# check sahpes of X and y\n",
        "print(X.shape, y.shape)"
      ]
    },
    {
      "cell_type": "code",
      "execution_count": 168,
      "metadata": {
        "colab": {
          "base_uri": "https://localhost:8080/"
        },
        "id": "zbv8-I91WFx9",
        "outputId": "f73cdf47-5622-4e76-a788-9ce9215e52d9"
      },
      "outputs": [
        {
          "output_type": "stream",
          "name": "stdout",
          "text": [
            "[[ 9054.914]\n",
            " [ 9437.372]\n",
            " [12239.894]\n",
            " [12495.334]\n",
            " [15991.736]]\n",
            "[[6. ]\n",
            " [5.6]\n",
            " [4.9]\n",
            " [5.8]\n",
            " [6.1]]\n"
          ]
        }
      ],
      "source": [
        "# check data values\n",
        "print(X[:5])\n",
        "print(y[:5])"
      ]
    },
    {
      "cell_type": "markdown",
      "metadata": {
        "id": "N0bMMFKDWFx9"
      },
      "source": [
        "### Build a simple regression model"
      ]
    },
    {
      "cell_type": "markdown",
      "metadata": {
        "id": "m0hVr9XrWFx-"
      },
      "source": [
        "\n",
        "#### Create a simple linear regression \n",
        "\n",
        "https://scikit-learn.org/stable/modules/generated/sklearn.linear_model.LinearRegression.html"
      ]
    },
    {
      "cell_type": "code",
      "execution_count": 169,
      "metadata": {
        "colab": {
          "base_uri": "https://localhost:8080/"
        },
        "id": "806P6ZOSWFx-",
        "outputId": "1391b85d-6db0-4c47-b872-e0a7b9e42ebd"
      },
      "outputs": [
        {
          "output_type": "execute_result",
          "data": {
            "text/plain": [
              "LinearRegression()"
            ]
          },
          "metadata": {},
          "execution_count": 169
        }
      ],
      "source": [
        "# import model\n",
        "from sklearn.linear_model import LinearRegression\n",
        "\n",
        "\n",
        "# Create a simple linear regression model\n",
        "model = LinearRegression()\n",
        "\n",
        "# Train the model\n",
        "# This time we use all data for training\n",
        "# Later (always in our analysis) we will divide the data into training data and testing data\n",
        "model.fit(X, y)"
      ]
    },
    {
      "cell_type": "code",
      "execution_count": 170,
      "metadata": {
        "colab": {
          "base_uri": "https://localhost:8080/"
        },
        "id": "oX8I1Rf6WFx_",
        "outputId": "0f94f331-d71e-4dad-a2b9-2092d30fdefa"
      },
      "outputs": [
        {
          "output_type": "stream",
          "name": "stdout",
          "text": [
            "[[4.91154459e-05]]\n",
            "[4.8530528]\n"
          ]
        }
      ],
      "source": [
        "# check the properties of the model\n",
        "# coefficient and intercept\n",
        "\n",
        "print(model.coef_)\n",
        "print(model.intercept_)"
      ]
    },
    {
      "cell_type": "markdown",
      "metadata": {
        "id": "CmSr2h2zWFx_"
      },
      "source": [
        "#### Predict y for a new X value"
      ]
    },
    {
      "cell_type": "code",
      "execution_count": 171,
      "metadata": {
        "colab": {
          "base_uri": "https://localhost:8080/"
        },
        "id": "v7B02kxbWFyA",
        "outputId": "24453b51-c985-4e9b-d409-d0af8dca0279"
      },
      "outputs": [
        {
          "output_type": "execute_result",
          "data": {
            "text/plain": [
              "array([[5.96242338]])"
            ]
          },
          "metadata": {},
          "execution_count": 171
        }
      ],
      "source": [
        "# Make a prediction for Cyprus \n",
        "# new data value 22587 for Cyprus's GDP per capita\n",
        "\n",
        "X_new = [[22587]]\n",
        "\n",
        "y_predict = model.predict(X_new)\n",
        "\n",
        "y_predict"
      ]
    },
    {
      "cell_type": "markdown",
      "metadata": {
        "id": "IUgm-dyHWFyA"
      },
      "source": [
        "#### Plot a scatter graph together with the regression function"
      ]
    },
    {
      "cell_type": "code",
      "execution_count": 172,
      "metadata": {
        "colab": {
          "base_uri": "https://localhost:8080/",
          "height": 302
        },
        "id": "txxQb5L0WFyB",
        "outputId": "50f0344b-3658-40ef-e5cb-bd5d6c1ce0a7"
      },
      "outputs": [
        {
          "output_type": "display_data",
          "data": {
            "text/plain": [
              "<Figure size 432x288 with 1 Axes>"
            ],
            "image/png": "[encoded data removed]"
          },
          "metadata": {
            "needs_background": "light"
          }
        }
      ],
      "source": [
        "# Plot scatterplot \n",
        "plt.scatter(X, y, c='red', label='observed')\n",
        "plt.legend(loc='best')\n",
        "\n",
        "plt.xlabel('GDP per capita')\n",
        "plt.ylabel('Life satisfaction')\n",
        "plt.title('Regression')\n",
        "\n",
        "# plot the regression together with the data\n",
        "plt.plot(X,model.predict(X),c='g',label='fitted',linewidth=2)\n",
        "\n",
        "plt.show()"
      ]
    },
    {
      "cell_type": "markdown",
      "metadata": {
        "id": "zvSQ3hemWFyC"
      },
      "source": [
        "## Model evaluation metrics for regression\n",
        "\n",
        "Evaluation metrics for classification problems, such as **accuracy**, are not useful for regression problems. Instead, we need evaluation metrics designed for comparing continuous values.\n",
        "\n",
        "Let's create some example numeric predictions, and calculate **three common evaluation metrics** for regression problems:\n",
        "\n",
        "See more details: https://scikit-learn.org/stable/modules/model_evaluation.html\n",
        "\n",
        "\n",
        "**Mean Absolute Error** (MAE) is the mean of the absolute value of the errors:\n",
        "\n",
        "$$\\frac 1n\\sum_{i=1}^n|y_i-\\hat{y}_i|$$\n",
        "\n",
        "**Mean Squared Error** (MSE) is the mean of the squared errors:\n",
        "\n",
        "$$\\frac 1n\\sum_{i=1}^n(y_i-\\hat{y}_i)^2$$\n",
        "\n",
        "\n",
        "**Root Mean Squared Error** (RMSE) is the square root of the mean of the squared errors:\n",
        "\n",
        "$$\\sqrt{\\frac 1n\\sum_{i=1}^n(y_i-\\hat{y}_i)^2}$$\n",
        "\n",
        "\n",
        "Comparing these metrics:\n",
        "\n",
        "- **MAE** is the easiest to understand, because it's the average error.\n",
        "- **MSE** is more popular than MAE, because MSE \"punishes\" larger errors.\n",
        "- **RMSE** is even more popular than MSE, because RMSE is interpretable in the \"y\" units.\n",
        "\n",
        "\n",
        "### The R2 (\"r-squared\") Regression Score\n",
        "\n",
        "- Measures how well a prediction model for regression fits the given data.\n",
        "\n",
        "- The score is between 0 and 1:\n",
        "\n",
        "     - A value of 0 corresponds to a constant model that predicts the mean value of all training target values.\n",
        "\n",
        "     - A value of 1 corresponds to perfect prediction\n",
        "\n",
        "- Also known as \"coefficient of determination\"\n"
      ]
    },
    {
      "cell_type": "markdown",
      "metadata": {
        "id": "6zfdqK-KWFyC"
      },
      "source": [
        "### Model Evaluation Example"
      ]
    },
    {
      "cell_type": "markdown",
      "metadata": {
        "id": "bGLN82nSWFyC"
      },
      "source": [
        "#### 1. Preparing X and y using pandas\n",
        "- We already did this process above\n",
        "- scikit-learn expects X (feature matrix) and y (response vector) to be NumPy arrays.\n",
        "- However, pandas is built on top of NumPy.\n",
        "- Thus, X can be a pandas DataFrame and y can be a pandas Series!\n",
        "\n",
        "See more details about Pandas Series and Numpy\n",
        "\n",
        "- https://pandas.pydata.org/pandas-docs/stable/reference/api/pandas.Series.html"
      ]
    },
    {
      "cell_type": "markdown",
      "metadata": {
        "id": "sHzQhXvqWFyD"
      },
      "source": [
        "#### 2. Splitting X and y into training and testing sets\n",
        "\n",
        "We are using the same data that is stored X, y above. "
      ]
    },
    {
      "cell_type": "code",
      "execution_count": 173,
      "metadata": {
        "id": "ZmZ-2ZsHWFyD"
      },
      "outputs": [],
      "source": [
        "from sklearn.model_selection import train_test_split\n",
        "\n",
        "# split the data into training and testing (test data size 30%)\n",
        "\n",
        "X_train,X_test,y_train,y_test=train_test_split(X,y,test_size=0.3, random_state=1)"
      ]
    },
    {
      "cell_type": "markdown",
      "metadata": {
        "id": "8TZgIH3rWFyE"
      },
      "source": [
        "#### 3. Linear regression in scikit-learn"
      ]
    },
    {
      "cell_type": "code",
      "execution_count": 174,
      "metadata": {
        "colab": {
          "base_uri": "https://localhost:8080/"
        },
        "id": "LIwBiP8pWFyE",
        "outputId": "eaa7d3bd-d3df-4fe4-99f0-37b93fd4361e"
      },
      "outputs": [
        {
          "output_type": "execute_result",
          "data": {
            "text/plain": [
              "LinearRegression()"
            ]
          },
          "metadata": {},
          "execution_count": 174
        }
      ],
      "source": [
        "# import model\n",
        "from sklearn.linear_model import LinearRegression\n",
        "\n",
        "\n",
        "# instantiate a simple linear regression model \n",
        "linreg=LinearRegression()\n",
        "\n",
        "# fit the model to the training data (learn the coefficients)\n",
        "\n",
        "linreg.fit(X_train,y_train)"
      ]
    },
    {
      "cell_type": "markdown",
      "metadata": {
        "id": "pVL2j6qKWFyE"
      },
      "source": [
        "#### 4. Making predictions for testing data\n",
        "\n",
        "Use X_test"
      ]
    },
    {
      "cell_type": "code",
      "execution_count": 175,
      "metadata": {
        "colab": {
          "base_uri": "https://localhost:8080/"
        },
        "id": "-HtfPlmBWFyF",
        "outputId": "958386e1-8526-4d34-93c4-4468074bd392"
      },
      "outputs": [
        {
          "output_type": "execute_result",
          "data": {
            "text/plain": [
              "array([[6.59031623],\n",
              "       [6.90629497],\n",
              "       [6.82350342],\n",
              "       [6.90057464],\n",
              "       [7.24870458],\n",
              "       [6.88774681],\n",
              "       [5.42891846],\n",
              "       [6.12434396],\n",
              "       [7.19687366]])"
            ]
          },
          "metadata": {},
          "execution_count": 175
        }
      ],
      "source": [
        "# make predictions on the testing set\n",
        "y_pred=linreg.predict(X_test)\n",
        "\n",
        "y_pred"
      ]
    },
    {
      "cell_type": "markdown",
      "metadata": {
        "id": "9iT4S01MWFyF"
      },
      "source": [
        "#### 5. Computing the RMSE \n",
        "\n",
        "https://scikit-learn.org/stable/modules/model_evaluation.html"
      ]
    },
    {
      "cell_type": "code",
      "execution_count": 176,
      "metadata": {
        "colab": {
          "base_uri": "https://localhost:8080/"
        },
        "id": "wrM4_ewlWFyF",
        "outputId": "b64b9771-eb2c-49c2-edea-758d401754b7"
      },
      "outputs": [
        {
          "output_type": "execute_result",
          "data": {
            "text/plain": [
              "0.39596209321120784"
            ]
          },
          "metadata": {},
          "execution_count": 176
        }
      ],
      "source": [
        "from sklearn import metrics\n",
        "\n",
        "rmse = np.sqrt(metrics.mean_squared_error(y_test,y_pred))\n",
        "rmse"
      ]
    },
    {
      "cell_type": "markdown",
      "metadata": {
        "id": "9Z_2P7J7WFyG"
      },
      "source": [
        "#### 6. K Cross Validation and Learning Curve"
      ]
    },
    {
      "cell_type": "code",
      "execution_count": 177,
      "metadata": {
        "colab": {
          "base_uri": "https://localhost:8080/"
        },
        "id": "Yg2_4e91WFyH",
        "outputId": "8bc389d5-60c2-43fe-b6df-7ac552c6f614"
      },
      "outputs": [
        {
          "output_type": "stream",
          "name": "stdout",
          "text": [
            "KFold(n_splits=3, random_state=None, shuffle=True)\n"
          ]
        }
      ],
      "source": [
        "import statistics as st\n",
        "from sklearn.model_selection import KFold # import k-fold validation\n",
        "\n",
        "kf = KFold(n_splits=3, random_state=None, shuffle=True) # Define the split - into 3 folds \n",
        "\n",
        "kf.get_n_splits(X) # returns the number of splitting iterations in the cross-validator\n",
        "\n",
        "print(kf) "
      ]
    },
    {
      "cell_type": "markdown",
      "metadata": {
        "id": "UcdrBTREWFyI"
      },
      "source": [
        "##### Setting up a testbed using KFold "
      ]
    },
    {
      "cell_type": "code",
      "execution_count": 178,
      "metadata": {
        "colab": {
          "base_uri": "https://localhost:8080/"
        },
        "id": "-jC04akiWFyI",
        "outputId": "4263732b-8e39-4afb-89d2-7cce94ca08b9"
      },
      "outputs": [
        {
          "output_type": "stream",
          "name": "stdout",
          "text": [
            "[0.37876539775569645, 0.495186686692271, 0.43540030863530993]\n",
            "[0.6655089145790839, 0.7118229466714427, 0.6902894770161846]\n"
          ]
        }
      ],
      "source": [
        "# Let's create a new simple linear regressor\n",
        "linreg=LinearRegression()\n",
        "\n",
        "# Conduct 3-fold cross validation\n",
        "rmse=[]\n",
        "r2 =[]\n",
        "\n",
        "for train_index, test_index in kf.split(X):\n",
        "    X_train, X_test = X[train_index],X[test_index]\n",
        "    y_train, y_test = y[train_index],y[test_index]\n",
        "    \n",
        "    linreg.fit(X_train, y_train)\n",
        "    y_pred = linreg.predict(X_test)\n",
        "    \n",
        "    rmse.append(np.sqrt(metrics.mean_squared_error(y_test,y_pred)))\n",
        "    r2.append(metrics.r2_score(y_test,y_pred))\n",
        "    \n",
        "\n",
        "print(rmse)\n",
        "print(r2)"
      ]
    },
    {
      "cell_type": "markdown",
      "metadata": {
        "id": "JP3wQqCVWFyJ"
      },
      "source": [
        "#### Learning Curve\n",
        "\n",
        "Check the details for learning curve\n",
        "\n",
        "https://scikit-learn.org/stable/modules/generated/sklearn.model_selection.learning_curve.html"
      ]
    },
    {
      "cell_type": "code",
      "execution_count": 179,
      "metadata": {
        "colab": {
          "base_uri": "https://localhost:8080/"
        },
        "id": "0WZ5fdqyWFyJ",
        "outputId": "fd974973-8825-4c12-8aa6-9761d202e036"
      },
      "outputs": [
        {
          "output_type": "stream",
          "name": "stdout",
          "text": [
            "[[0.03290758 0.10840763 0.37553748]\n",
            " [0.39735793 0.30910622 0.50985309]\n",
            " [0.43376689 0.28666866 0.51851927]\n",
            " [0.40774603 0.28687313 0.50052421]\n",
            " [0.37948822 0.40396729 0.46235222]]\n",
            "[[2.00400664 0.49653015 1.43023283]\n",
            " [0.96773722 0.45438616 0.27479918]\n",
            " [0.68542354 0.43863321 0.49522255]\n",
            " [0.55400948 0.47548545 0.37438814]\n",
            " [0.60709607 0.47324278 0.42074673]]\n"
          ]
        }
      ],
      "source": [
        "from sklearn.model_selection import learning_curve\n",
        "    \n",
        "# evaluate the training and testing and\n",
        "# retrieve the information of model performance. \n",
        "train_sizes = np.linspace(0.2,0.8,5)  # 5 times 5*3 = 15\n",
        "\n",
        "train_sizes, train_mse, test_mse = learning_curve(linreg, X, y, \n",
        "                            train_sizes = train_sizes, \n",
        "                            scoring = 'neg_mean_squared_error',\n",
        "                                                 cv=3, shuffle=True)\n",
        "train_scores = np.sqrt(np.abs(train_mse))\n",
        "\n",
        "test_scores = np.sqrt(np.abs(test_mse))\n",
        "\n",
        "print(train_scores)\n",
        "print(test_scores) \n",
        "\n",
        "train_scores_mean=np.mean(train_scores, axis=1)\n",
        "\n",
        "test_scores_mean = np.mean(test_scores, axis=1)"
      ]
    },
    {
      "cell_type": "code",
      "execution_count": 180,
      "metadata": {
        "colab": {
          "base_uri": "https://localhost:8080/",
          "height": 248
        },
        "id": "Se7ZDu0zWFyJ",
        "outputId": "f5a15e56-f524-4498-9aef-304815641df2"
      },
      "outputs": [
        {
          "output_type": "display_data",
          "data": {
            "text/plain": [
              "<Figure size 360x216 with 1 Axes>"
            ],
            "image/png": "[encoded data removed]"
          },
          "metadata": {
            "needs_background": "light"
          }
        }
      ],
      "source": [
        "# Plot learning curve\n",
        "fig, ax = plt.subplots(1, 1, figsize=(5, 3))\n",
        "    \n",
        "ax.set_title('A learning curve for a simple linear regression')\n",
        "ax.set_xlabel(\"Training examples\")\n",
        "ax.set_ylabel(\"Score (RMSE)\")\n",
        "ax.grid()\n",
        "\n",
        "ax.plot(train_sizes, train_scores_mean, 'o-', color=\"r\", label=\"Training score\")\n",
        "ax.plot(train_sizes, test_scores_mean, 'o-', color=\"g\", label=\"Cross-validation score\")\n",
        "ax.legend(loc=\"best\")\n",
        "\n",
        "plt.show()"
      ]
    },
    {
      "cell_type": "markdown",
      "metadata": {
        "id": "K-MeMqPYWFyJ"
      },
      "source": [
        "### Teamwork\n",
        "\n",
        "\n",
        "###  Part 1: Regression Modeling\n",
        "\n",
        "The following Git repository is for the COVID-19 visual dashboard operated by the Johns Hopkins University Center for Systems Science and Engineering:\n",
        "https://github.com/CSSEGISandData/COVID-19\n",
        "\n",
        "Read the information on the dashboard and check the datasets details\n",
        "\n",
        "Datasets are located in a folder: csse_covid_19_data"
      ]
    },
    {
      "cell_type": "markdown",
      "metadata": {
        "id": "20BD1VXwWFyJ"
      },
      "source": [
        "### Tasks\n",
        "\n",
        "1. Check your work in TW3 (EDA on COVID-19 datasets). In TW3, you conducted an EDA on your selected COVID-19 datasets through descriptive statistics and data visualization. The EDA analysis results may give you  insight of the selected data and relationships among the data attributes. \n",
        "\n",
        "2. Now, build a simple regression and plot the regression function with a scatter plot (as shown in the example above). \n",
        "    --> You may see the data does not follow a simple linear function. \n",
        "   \n",
        "3. Build a logistic regression and draw a scatter plot of the data together with the logistic regression function. See the web resources below:\n",
        "\n",
        "https://scikit-learn.org/stable/modules/generated/sklearn.linear_model.LogisticRegression.html\n",
        " "
      ]
    },
    {
      "cell_type": "code",
      "execution_count": 181,
      "metadata": {
        "colab": {
          "base_uri": "https://localhost:8080/",
          "height": 335
        },
        "id": "tlb7zgWJWFyL",
        "outputId": "3f3febae-203c-4917-e69d-56ca9215188c"
      },
      "outputs": [
        {
          "output_type": "stream",
          "name": "stdout",
          "text": [
            "Downloading time_series_covid19_confirmed_US.csv\n",
            "Downloading time_series_covid19_deaths_US.csv\n"
          ]
        },
        {
          "output_type": "execute_result",
          "data": {
            "text/plain": [
              "        UID iso2 iso3  code3    FIPS   Admin2 Province_State Country_Region  \\\n",
              "0  84001001   US  USA    840  1001.0  Autauga        Alabama             US   \n",
              "1  84001003   US  USA    840  1003.0  Baldwin        Alabama             US   \n",
              "2  84001005   US  USA    840  1005.0  Barbour        Alabama             US   \n",
              "3  84001007   US  USA    840  1007.0     Bibb        Alabama             US   \n",
              "4  84001009   US  USA    840  1009.0   Blount        Alabama             US   \n",
              "\n",
              "         Lat      Long_  ... 10/26/22  10/27/22  10/28/22  10/29/22  10/30/22  \\\n",
              "0  32.539527 -86.644082  ...    18480     18511     18511     18511     18511   \n",
              "1  30.727750 -87.722071  ...    65895     65973     65973     65973     65973   \n",
              "2  31.868263 -85.387129  ...     6926      6930      6930      6930      6930   \n",
              "3  32.996421 -87.125115  ...     7560      7575      7575      7575      7575   \n",
              "4  33.982109 -86.567906  ...    17286     17320     17320     17320     17320   \n",
              "\n",
              "   10/31/22  11/1/22  11/2/22  11/3/22  11/4/22  \n",
              "0     18511    18511    18511    18511    18511  \n",
              "1     65973    65973    65973    65973    65973  \n",
              "2      6930     6930     6930     6930     6930  \n",
              "3      7575     7575     7575     7575     7575  \n",
              "4     17320    17320    17320    17320    17320  \n",
              "\n",
              "[5 rows x 1029 columns]"
            ],
            "text/html": [
              "\n",
              "  <div id=\"df-5b24afb0-932e-4a22-8c42-c3c214d3ffe9\">\n",
              "    <div class=\"colab-df-container\">\n",
              "      <div>\n",
              "<style scoped>\n",
              "    .dataframe tbody tr th:only-of-type {\n",
              "        vertical-align: middle;\n",
              "    }\n",
              "\n",
              "    .dataframe tbody tr th {\n",
              "        vertical-align: top;\n",
              "    }\n",
              "\n",
              "    .dataframe thead th {\n",
              "        text-align: right;\n",
              "    }\n",
              "</style>\n",
              "<table border=\"1\" class=\"dataframe\">\n",
              "  <thead>\n",
              "    <tr style=\"text-align: right;\">\n",
              "      <th></th>\n",
              "      <th>UID</th>\n",
              "      <th>iso2</th>\n",
              "      <th>iso3</th>\n",
              "      <th>code3</th>\n",
              "      <th>FIPS</th>\n",
              "      <th>Admin2</th>\n",
              "      <th>Province_State</th>\n",
              "      <th>Country_Region</th>\n",
              "      <th>Lat</th>\n",
              "      <th>Long_</th>\n",
              "      <th>...</th>\n",
              "      <th>10/26/22</th>\n",
              "      <th>10/27/22</th>\n",
              "      <th>10/28/22</th>\n",
              "      <th>10/29/22</th>\n",
              "      <th>10/30/22</th>\n",
              "      <th>10/31/22</th>\n",
              "      <th>11/1/22</th>\n",
              "      <th>11/2/22</th>\n",
              "      <th>11/3/22</th>\n",
              "      <th>11/4/22</th>\n",
              "    </tr>\n",
              "  </thead>\n",
              "  <tbody>\n",
              "    <tr>\n",
              "      <th>0</th>\n",
              "      <td>84001001</td>\n",
              "      <td>US</td>\n",
              "      <td>USA</td>\n",
              "      <td>840</td>\n",
              "      <td>1001.0</td>\n",
              "      <td>Autauga</td>\n",
              "      <td>Alabama</td>\n",
              "      <td>US</td>\n",
              "      <td>32.539527</td>\n",
              "      <td>-86.644082</td>\n",
              "      <td>...</td>\n",
              "      <td>18480</td>\n",
              "      <td>18511</td>\n",
              "      <td>18511</td>\n",
              "      <td>18511</td>\n",
              "      <td>18511</td>\n",
              "      <td>18511</td>\n",
              "      <td>18511</td>\n",
              "      <td>18511</td>\n",
              "      <td>18511</td>\n",
              "      <td>18511</td>\n",
              "    </tr>\n",
              "    <tr>\n",
              "      <th>1</th>\n",
              "      <td>84001003</td>\n",
              "      <td>US</td>\n",
              "      <td>USA</td>\n",
              "      <td>840</td>\n",
              "      <td>1003.0</td>\n",
              "      <td>Baldwin</td>\n",
              "      <td>Alabama</td>\n",
              "      <td>US</td>\n",
              "      <td>30.727750</td>\n",
              "      <td>-87.722071</td>\n",
              "      <td>...</td>\n",
              "      <td>65895</td>\n",
              "      <td>65973</td>\n",
              "      <td>65973</td>\n",
              "      <td>65973</td>\n",
              "      <td>65973</td>\n",
              "      <td>65973</td>\n",
              "      <td>65973</td>\n",
              "      <td>65973</td>\n",
              "      <td>65973</td>\n",
              "      <td>65973</td>\n",
              "    </tr>\n",
              "    <tr>\n",
              "      <th>2</th>\n",
              "      <td>84001005</td>\n",
              "      <td>US</td>\n",
              "      <td>USA</td>\n",
              "      <td>840</td>\n",
              "      <td>1005.0</td>\n",
              "      <td>Barbour</td>\n",
              "      <td>Alabama</td>\n",
              "      <td>US</td>\n",
              "      <td>31.868263</td>\n",
              "      <td>-85.387129</td>\n",
              "      <td>...</td>\n",
              "      <td>6926</td>\n",
              "      <td>6930</td>\n",
              "      <td>6930</td>\n",
              "      <td>6930</td>\n",
              "      <td>6930</td>\n",
              "      <td>6930</td>\n",
              "      <td>6930</td>\n",
              "      <td>6930</td>\n",
              "      <td>6930</td>\n",
              "      <td>6930</td>\n",
              "    </tr>\n",
              "    <tr>\n",
              "      <th>3</th>\n",
              "      <td>84001007</td>\n",
              "      <td>US</td>\n",
              "      <td>USA</td>\n",
              "      <td>840</td>\n",
              "      <td>1007.0</td>\n",
              "      <td>Bibb</td>\n",
              "      <td>Alabama</td>\n",
              "      <td>US</td>\n",
              "      <td>32.996421</td>\n",
              "      <td>-87.125115</td>\n",
              "      <td>...</td>\n",
              "      <td>7560</td>\n",
              "      <td>7575</td>\n",
              "      <td>7575</td>\n",
              "      <td>7575</td>\n",
              "      <td>7575</td>\n",
              "      <td>7575</td>\n",
              "      <td>7575</td>\n",
              "      <td>7575</td>\n",
              "      <td>7575</td>\n",
              "      <td>7575</td>\n",
              "    </tr>\n",
              "    <tr>\n",
              "      <th>4</th>\n",
              "      <td>84001009</td>\n",
              "      <td>US</td>\n",
              "      <td>USA</td>\n",
              "      <td>840</td>\n",
              "      <td>1009.0</td>\n",
              "      <td>Blount</td>\n",
              "      <td>Alabama</td>\n",
              "      <td>US</td>\n",
              "      <td>33.982109</td>\n",
              "      <td>-86.567906</td>\n",
              "      <td>...</td>\n",
              "      <td>17286</td>\n",
              "      <td>17320</td>\n",
              "      <td>17320</td>\n",
              "      <td>17320</td>\n",
              "      <td>17320</td>\n",
              "      <td>17320</td>\n",
              "      <td>17320</td>\n",
              "      <td>17320</td>\n",
              "      <td>17320</td>\n",
              "      <td>17320</td>\n",
              "    </tr>\n",
              "  </tbody>\n",
              "</table>\n",
              "<p>5 rows × 1029 columns</p>\n",
              "</div>\n",
              "      <button class=\"colab-df-convert\" onclick=\"convertToInteractive('df-5b24afb0-932e-4a22-8c42-c3c214d3ffe9')\"\n",
              "              title=\"Convert this dataframe to an interactive table.\"\n",
              "              style=\"display:none;\">\n",
              "        \n",
              "  <svg xmlns=\"http://www.w3.org/2000/svg\" height=\"24px\"viewBox=\"0 0 24 24\"\n",
              "       width=\"24px\">\n",
              "    <path d=\"M0 0h24v24H0V0z\" fill=\"none\"/>\n",
              "    <path d=\"M18.56 5.44l.94 2.06.94-2.06 2.06-.94-2.06-.94-.94-2.06-.94 2.06-2.06.94zm-11 1L8.5 8.5l.94-2.06 2.06-.94-2.06-.94L8.5 2.5l-.94 2.06-2.06.94zm10 10l.94 2.06.94-2.06 2.06-.94-2.06-.94-.94-2.06-.94 2.06-2.06.94z\"/><path d=\"M17.41 7.96l-1.37-1.37c-.4-.4-.92-.59-1.43-.59-.52 0-1.04.2-1.43.59L10.3 9.45l-7.72 7.72c-.78.78-.78 2.05 0 2.83L4 21.41c.39.39.9.59 1.41.59.51 0 1.02-.2 1.41-.59l7.78-7.78 2.81-2.81c.8-.78.8-2.07 0-2.86zM5.41 20L4 18.59l7.72-7.72 1.47 1.35L5.41 20z\"/>\n",
              "  </svg>\n",
              "      </button>\n",
              "      \n",
              "  <style>\n",
              "    .colab-df-container {\n",
              "      display:flex;\n",
              "      flex-wrap:wrap;\n",
              "      gap: 12px;\n",
              "    }\n",
              "\n",
              "    .colab-df-convert {\n",
              "      background-color: #E8F0FE;\n",
              "      border: none;\n",
              "      border-radius: 50%;\n",
              "      cursor: pointer;\n",
              "      display: none;\n",
              "      fill: #1967D2;\n",
              "      height: 32px;\n",
              "      padding: 0 0 0 0;\n",
              "      width: 32px;\n",
              "    }\n",
              "\n",
              "    .colab-df-convert:hover {\n",
              "      background-color: #E2EBFA;\n",
              "      box-shadow: 0px 1px 2px rgba(60, 64, 67, 0.3), 0px 1px 3px 1px rgba(60, 64, 67, 0.15);\n",
              "      fill: #174EA6;\n",
              "    }\n",
              "\n",
              "    [theme=dark] .colab-df-convert {\n",
              "      background-color: #3B4455;\n",
              "      fill: #D2E3FC;\n",
              "    }\n",
              "\n",
              "    [theme=dark] .colab-df-convert:hover {\n",
              "      background-color: #434B5C;\n",
              "      box-shadow: 0px 1px 3px 1px rgba(0, 0, 0, 0.15);\n",
              "      filter: drop-shadow(0px 1px 2px rgba(0, 0, 0, 0.3));\n",
              "      fill: #FFFFFF;\n",
              "    }\n",
              "  </style>\n",
              "\n",
              "      <script>\n",
              "        const buttonEl =\n",
              "          document.querySelector('#df-5b24afb0-932e-4a22-8c42-c3c214d3ffe9 button.colab-df-convert');\n",
              "        buttonEl.style.display =\n",
              "          google.colab.kernel.accessAllowed ? 'block' : 'none';\n",
              "\n",
              "        async function convertToInteractive(key) {\n",
              "          const element = document.querySelector('#df-5b24afb0-932e-4a22-8c42-c3c214d3ffe9');\n",
              "          const dataTable =\n",
              "            await google.colab.kernel.invokeFunction('convertToInteractive',\n",
              "                                                     [key], {});\n",
              "          if (!dataTable) return;\n",
              "\n",
              "          const docLinkHtml = 'Like what you see? Visit the ' +\n",
              "            '<a target=\"_blank\" href=https://colab.research.google.com/notebooks/data_table.ipynb>data table notebook</a>'\n",
              "            + ' to learn more about interactive tables.';\n",
              "          element.innerHTML = '';\n",
              "          dataTable['output_type'] = 'display_data';\n",
              "          await google.colab.output.renderOutput(dataTable, element);\n",
              "          const docLink = document.createElement('div');\n",
              "          docLink.innerHTML = docLinkHtml;\n",
              "          element.appendChild(docLink);\n",
              "        }\n",
              "      </script>\n",
              "    </div>\n",
              "  </div>\n",
              "  "
            ]
          },
          "metadata": {},
          "execution_count": 181
        }
      ],
      "source": [
        "# Download the data from the Web\n",
        "\n",
        "import os\n",
        "datapath = os.path.join(\"csse_covid_19_data\", \"csse_covid_19_data\", \"\")\n",
        "\n",
        "import urllib\n",
        "\n",
        "DOWNLOAD_ROOT = \"https://raw.githubusercontent.com/CSSEGISandData/COVID-19/master/csse_covid_19_data/csse_covid_19_time_series/time_series_covid19_confirmed_US.csv\"\n",
        "os.makedirs(datapath, exist_ok=True)\n",
        "\n",
        "for filename in (\"time_series_covid19_confirmed_US.csv\",\"time_series_covid19_deaths_US.csv\"):\n",
        "    print(\"Downloading\", filename)\n",
        "    url = DOWNLOAD_ROOT + \"csse_covid_19_data/csse_covid_19_data/\" + filename\n",
        "    urllib.request.urlretrieve(DOWNLOAD_ROOT, datapath + filename)\n",
        "\n",
        "# read data\n",
        "df = pd.read_csv(datapath + \"time_series_covid19_confirmed_US.csv\")\n",
        "df.head()"
      ]
    },
    {
      "cell_type": "code",
      "execution_count": 182,
      "metadata": {
        "colab": {
          "base_uri": "https://localhost:8080/"
        },
        "id": "5DJFB1XUWFyL",
        "outputId": "53dcd23b-b6db-483b-9ff1-e395a4caa044"
      },
      "outputs": [
        {
          "output_type": "stream",
          "name": "stdout",
          "text": [
            "         WA_cases  TX_cases\n",
            "1/22/20         1         0\n",
            "1/23/20         1         0\n",
            "1/24/20         1         0\n",
            "1/25/20         1         0\n",
            "1/26/20         1         0\n"
          ]
        }
      ],
      "source": [
        "st1 = df.loc[df[\"Province_State\"] == \"Washington\"]\n",
        "st2 = df.loc[df[\"Province_State\"] == \"Texas\"]\n",
        "\n",
        "# drop not-used columns \n",
        "drop_cols = ['UID', 'iso2', 'iso3', 'FIPS', 'Province_State', 'Country_Region', \n",
        "             'Lat', 'Long_', 'code3', 'Combined_Key', 'Admin2']\n",
        "\n",
        "st1 = st1.drop(columns=drop_cols)\n",
        "st2 = st2.drop(columns=drop_cols)\n",
        "cases_st1 = st1.sum(axis=0)\n",
        "cases_st2 = st2.sum(axis=0)\n",
        "dict_states = {'WA_cases': cases_st1, 'TX_cases': cases_st2}\n",
        "\n",
        "data = pd.DataFrame(dict_states)\n",
        "print(data.head())"
      ]
    },
    {
      "cell_type": "code",
      "execution_count": 183,
      "metadata": {
        "colab": {
          "base_uri": "https://localhost:8080/",
          "height": 299
        },
        "id": "nzDlpI1iWFyL",
        "outputId": "80bd3c68-cddc-4df0-a6c5-ef7e61f6c90e"
      },
      "outputs": [
        {
          "output_type": "display_data",
          "data": {
            "text/plain": [
              "<Figure size 432x288 with 1 Axes>"
            ],
            "image/png": "[encoded data removed]"
          },
          "metadata": {
            "needs_background": "light"
          }
        }
      ],
      "source": [
        "#Preparing data\n",
        "\n",
        "X = np.c_[data['WA_cases']]\n",
        "y = np.c_[data['TX_cases']]\n",
        "\n",
        "# Visualize the data\n",
        "data.plot(kind='scatter', x=\"WA_cases\", y='TX_cases')\n",
        "plt.show()"
      ]
    },
    {
      "cell_type": "code",
      "execution_count": 184,
      "metadata": {
        "colab": {
          "base_uri": "https://localhost:8080/"
        },
        "id": "hBm20Uo9WFyM",
        "outputId": "4e490e97-58e2-4a7d-95dd-9cb5dbdc2f63"
      },
      "outputs": [
        {
          "output_type": "stream",
          "name": "stdout",
          "text": [
            "(1018, 1) (1018, 1)\n",
            "[[1]\n",
            " [1]\n",
            " [1]\n",
            " [1]\n",
            " [1]]\n",
            "[[0]\n",
            " [0]\n",
            " [0]\n",
            " [0]\n",
            " [0]]\n"
          ]
        }
      ],
      "source": [
        "# check shapes of X and y\n",
        "print(X.shape, y.shape)\n",
        "\n",
        "# check data values\n",
        "print(X[:5])\n",
        "print(y[:5])"
      ]
    },
    {
      "cell_type": "code",
      "execution_count": 185,
      "metadata": {
        "colab": {
          "base_uri": "https://localhost:8080/"
        },
        "id": "cOpx0FqxWFyM",
        "outputId": "4a4261cb-b568-4543-9613-35e4ae154a9b"
      },
      "outputs": [
        {
          "output_type": "execute_result",
          "data": {
            "text/plain": [
              "LinearRegression()"
            ]
          },
          "metadata": {},
          "execution_count": 185
        }
      ],
      "source": [
        "model = LinearRegression()\n",
        "\n",
        "# Train the model\n",
        "model.fit(X, y)"
      ]
    },
    {
      "cell_type": "code",
      "execution_count": 186,
      "metadata": {
        "id": "bdaqJdieWFyM",
        "colab": {
          "base_uri": "https://localhost:8080/",
          "height": 320
        },
        "outputId": "a0d1273c-383e-47fe-914c-1d962cb11d3b"
      },
      "outputs": [
        {
          "output_type": "stream",
          "name": "stderr",
          "text": [
            "WARNING:matplotlib.legend:No handles with labels found to put in legend.\n"
          ]
        },
        {
          "output_type": "display_data",
          "data": {
            "text/plain": [
              "<Figure size 432x288 with 1 Axes>"
            ],
            "image/png": "[encoded data removed]"
          },
          "metadata": {
            "needs_background": "light"
          }
        }
      ],
      "source": [
        "# Performing Logistic Regression \n",
        "# Plot scatterplot \n",
        "plt.scatter(X, y)\n",
        "plt.legend(loc='best')\n",
        "\n",
        "plt.xlabel('WA_Cases')\n",
        "plt.ylabel('TX_Cases')\n",
        "plt.title('Regression')\n",
        "\n",
        "# plot the regression together with the data\n",
        "plt.plot(X,model.predict(X),c='g',label='fitted',linewidth=2)\n",
        "\n",
        "plt.show()"
      ]
    },
    {
      "cell_type": "code",
      "execution_count": 187,
      "metadata": {
        "id": "7hMvquqMWFyN",
        "colab": {
          "base_uri": "https://localhost:8080/"
        },
        "outputId": "2b1c5f8a-9241-4157-e100-e3b047dfaa83"
      },
      "outputs": [
        {
          "output_type": "stream",
          "name": "stderr",
          "text": [
            "/usr/local/lib/python3.7/dist-packages/sklearn/utils/validation.py:993: DataConversionWarning: A column-vector y was passed when a 1d array was expected. Please change the shape of y to (n_samples, ), for example using ravel().\n",
            "  y = column_or_1d(y, warn=True)\n",
            "/usr/local/lib/python3.7/dist-packages/sklearn/linear_model/_logistic.py:818: ConvergenceWarning: lbfgs failed to converge (status=1):\n",
            "STOP: TOTAL NO. of ITERATIONS REACHED LIMIT.\n",
            "\n",
            "Increase the number of iterations (max_iter) or scale the data as shown in:\n",
            "    https://scikit-learn.org/stable/modules/preprocessing.html\n",
            "Please also refer to the documentation for alternative solver options:\n",
            "    https://scikit-learn.org/stable/modules/linear_model.html#logistic-regression\n",
            "  extra_warning_msg=_LOGISTIC_SOLVER_CONVERGENCE_MSG,\n"
          ]
        },
        {
          "output_type": "execute_result",
          "data": {
            "text/plain": [
              "LogisticRegression()"
            ]
          },
          "metadata": {},
          "execution_count": 187
        }
      ],
      "source": [
        "# Performing Logistic Regression \n",
        "from sklearn.linear_model import LogisticRegression\n",
        "\n",
        "model_lg = LogisticRegression()\n",
        "model_lg.fit(X, y)\n"
      ]
    },
    {
      "cell_type": "code",
      "execution_count": 188,
      "metadata": {
        "id": "wbGHoDcqWFyN",
        "colab": {
          "base_uri": "https://localhost:8080/",
          "height": 320
        },
        "outputId": "7baff87e-0976-4fc0-b010-bf60945f94c9"
      },
      "outputs": [
        {
          "output_type": "stream",
          "name": "stderr",
          "text": [
            "WARNING:matplotlib.legend:No handles with labels found to put in legend.\n"
          ]
        },
        {
          "output_type": "display_data",
          "data": {
            "text/plain": [
              "<Figure size 432x288 with 1 Axes>"
            ],
            "image/png": "[encoded data removed]"
          },
          "metadata": {
            "needs_background": "light"
          }
        }
      ],
      "source": [
        "plt.scatter(X, y)\n",
        "plt.legend(loc='best')\n",
        "\n",
        "plt.xlabel('WA_Cases')\n",
        "plt.ylabel('TX_Cases')\n",
        "plt.title('Logistic Regression')\n",
        "\n",
        "# plot the regression together with the data\n",
        "plt.plot(X,model_lg.predict(X),c='g',label='fitted',linewidth=2)\n",
        "\n",
        "plt.show()"
      ]
    },
    {
      "cell_type": "markdown",
      "metadata": {
        "id": "oHm7laayWFyO"
      },
      "source": [
        "### Part 2: Write a summary of what you find from the data"
      ]
    },
    {
      "cell_type": "markdown",
      "metadata": {
        "id": "Z68qxOnmWFyO"
      },
      "source": [
        "### We can see from the linear regression that the WA cases and the TX cases have a significant correlation. This is due to the fact that the scatter plot results closely resemble the regression line, only varying slightly above and below. This is probably because Covid-19 affected the entire United States, not just one state, and as the number of cases in Washington increased, so did the number of cases in Texas. If there is another variety that increases instances, it is presumably widespread."
      ]
    }
  ],
  "metadata": {
    "kernelspec": {
      "display_name": "Python 3 (ipykernel)",
      "language": "python",
      "name": "python3"
    },
    "language_info": {
      "codemirror_mode": {
        "name": "ipython",
        "version": 3
      },
      "file_extension": ".py",
      "mimetype": "text/x-python",
      "name": "python",
      "nbconvert_exporter": "python",
      "pygments_lexer": "ipython3",
      "version": "3.9.12"
    },
    "vscode": {
      "interpreter": {
        "hash": "ef045454180e8e26125ed505be23888541800d8e2dc8e4f3367cc8619b9436b6"
      }
    },
    "colab": {
      "provenance": [],
      "collapsed_sections": [
        "bGLN82nSWFyC"
      ]
    }
  },
  "nbformat": 4,
  "nbformat_minor": 0
}